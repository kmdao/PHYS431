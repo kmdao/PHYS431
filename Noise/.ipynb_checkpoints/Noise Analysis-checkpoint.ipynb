{
 "cells": [
  {
   "cell_type": "code",
   "execution_count": 1,
   "id": "ec62304d-6a26-4839-9a7c-aa86323627e2",
   "metadata": {},
   "outputs": [],
   "source": [
    "# Run this cell with Shift-Enter, and wait until the \n",
    "# asterisk changes to a number, i.e., [*] becomes [1]\n",
    "import numpy as np\n",
    "import scipy.constants as const\n",
    "import uncertainties as unc\n",
    "import matplotlib.pyplot as plt\n",
    "import pandas as pd\n",
    "%matplotlib inline"
   ]
  },
  {
   "cell_type": "markdown",
   "id": "a64a7600-1666-4e3c-824a-5b6520861212",
   "metadata": {},
   "source": [
    "## Johnson Noise Analysis\n",
    "\n",
    "## Exercise 1 -  Data reduction\n",
    "### Read in the raw data\n"
   ]
  },
  {
   "cell_type": "code",
   "execution_count": 3,
   "id": "ca6f66c7-91bd-4485-8417-97abba107e3a",
   "metadata": {},
   "outputs": [
    {
     "data": {
      "text/html": [
       "<div>\n",
       "<style scoped>\n",
       "    .dataframe tbody tr th:only-of-type {\n",
       "        vertical-align: middle;\n",
       "    }\n",
       "\n",
       "    .dataframe tbody tr th {\n",
       "        vertical-align: top;\n",
       "    }\n",
       "\n",
       "    .dataframe thead th {\n",
       "        text-align: right;\n",
       "    }\n",
       "</style>\n",
       "<table border=\"1\" class=\"dataframe\">\n",
       "  <thead>\n",
       "    <tr style=\"text-align: right;\">\n",
       "      <th></th>\n",
       "      <th>Resistance [kOhms]</th>\n",
       "      <th>Average RMS Voltage [V]</th>\n",
       "    </tr>\n",
       "  </thead>\n",
       "  <tbody>\n",
       "    <tr>\n",
       "      <th>0</th>\n",
       "      <td>40.00</td>\n",
       "      <td>0.004307</td>\n",
       "    </tr>\n",
       "    <tr>\n",
       "      <th>1</th>\n",
       "      <td>20.00</td>\n",
       "      <td>0.003090</td>\n",
       "    </tr>\n",
       "    <tr>\n",
       "      <th>2</th>\n",
       "      <td>15.00</td>\n",
       "      <td>0.002710</td>\n",
       "    </tr>\n",
       "    <tr>\n",
       "      <th>3</th>\n",
       "      <td>9.99</td>\n",
       "      <td>0.002244</td>\n",
       "    </tr>\n",
       "    <tr>\n",
       "      <th>4</th>\n",
       "      <td>7.50</td>\n",
       "      <td>0.001964</td>\n",
       "    </tr>\n",
       "    <tr>\n",
       "      <th>5</th>\n",
       "      <td>4.99</td>\n",
       "      <td>0.001660</td>\n",
       "    </tr>\n",
       "    <tr>\n",
       "      <th>6</th>\n",
       "      <td>2.50</td>\n",
       "      <td>0.001225</td>\n",
       "    </tr>\n",
       "    <tr>\n",
       "      <th>7</th>\n",
       "      <td>1.00</td>\n",
       "      <td>0.000929</td>\n",
       "    </tr>\n",
       "    <tr>\n",
       "      <th>8</th>\n",
       "      <td>0.00</td>\n",
       "      <td>0.000628</td>\n",
       "    </tr>\n",
       "  </tbody>\n",
       "</table>\n",
       "</div>"
      ],
      "text/plain": [
       "   Resistance [kOhms]  Average RMS Voltage [V]\n",
       "0               40.00                 0.004307\n",
       "1               20.00                 0.003090\n",
       "2               15.00                 0.002710\n",
       "3                9.99                 0.002244\n",
       "4                7.50                 0.001964\n",
       "5                4.99                 0.001660\n",
       "6                2.50                 0.001225\n",
       "7                1.00                 0.000929\n",
       "8                0.00                 0.000628"
      ]
     },
     "execution_count": 3,
     "metadata": {},
     "output_type": "execute_result"
    }
   ],
   "source": [
    "## Lines below show how to read in a CSV data set and display it.\n",
    "\n",
    "johnson_294 = pd.read_csv('Johnson300k.csv', delimiter=',')\n",
    "johnson_294  # DataFrame name on the last line spits out a table\n",
    "\n",
    "johnson_77 = pd.read_csv('Johnson77k.csv')\n",
    "johnson_77"
   ]
  },
  {
   "cell_type": "markdown",
   "id": "6e56ef7d-1bd9-4ac7-8e44-a7db8c79bdbc",
   "metadata": {},
   "source": [
    "### Massage the raw data\n",
    "\n",
    "#### For data structure type \"1.\"  If you have a type \"2\" data structure, skip to \"Plot the Reduced Data\" below.\n",
    "\n",
    "Create new arrays that have averages of the 5 readings at each value of the resistance and their standard deviation.  Then extract the resistance from the column label and make into a number.  Finally, build a new DataFrame that has these arrays. Below is an example.  The example shows a number of useful operations.  Study it carefully.\n",
    "\n",
    "We will use a loop to build the new arrays first, and then combine them into a DataFrame.\n",
    "\n",
    "You can extract the resistance from the column heading. Here is one way to do it, assuming `col_label` is the column label:\n",
    "\n",
    "    resistance = float(col_label.split('k')[0])\n",
    "    \n",
    "This splits the label at `k` and puts the number into the first (0) position as a string.  `float()` converts the number string to a flaoting point number.\n",
    "\n",
    "Then calculate the mean and standard deviation using the built-in methods for the arrays."
   ]
  },
  {
   "cell_type": "code",
   "execution_count": null,
   "id": "9818122a-d734-4c0b-af9e-69c4dc97c8bb",
   "metadata": {},
   "outputs": [],
   "source": [
    "## Study this example.\n",
    "\n",
    "# These lines create empty arrays that will be filled.\n",
    "Rs = np.zeros(0)\n",
    "Vs = np.zeros(0)\n",
    "Stds = np.zeros(0)\n",
    "\n",
    "# This is a standard Python loop.  Note the 'for <item> in <list>:' construction\n",
    "# The '.columns' is an array of column labels in the DataFrame\n",
    "for label in johnson_294.columns:\n",
    "    # obtain the numerical part of the column label\n",
    "    R = float(label.split('k')[0])\n",
    "    # calculate the mean (average) of the numbers in the column\n",
    "    mean = johnson_294[label].mean()\n",
    "    # calculate the standard deviation of the same numbers \n",
    "    std = johnson_294[label].std()\n",
    "    \n",
    "    # These lines add each calculated result to the associated array\n",
    "    Rs = np.append(Rs,R)\n",
    "    Vs = np.append(Vs,mean)\n",
    "    Stds = np.append(Stds,std)\n",
    "\n",
    "# Initialize an empty DataFrame\n",
    "J_294 = pd.DataFrame()\n",
    "\n",
    "# These lines add columns to the DataFrame\n",
    "J_294['R (ohms)'] = Rs*1000.0 # Convert resistance from kohms to ohms\n",
    "J_294['Vrms (V)'] = Vs\n",
    "J_294['DV (V)'] = Stds\n",
    "\n",
    "# Here is another way to do the same thing\n",
    "\n",
    "J_294_ver2 = pd.DataFrame({\n",
    "    'R (ohms)': Rs*1e3,\n",
    "    'Vrms (V)': Vs,\n",
    "    'DV (V)': Stds\n",
    "})\n",
    "\n",
    "# Finally display the results.  Name of DataFrame on last line spits a table\n",
    "# J_294\n",
    "J_294_ver2\n"
   ]
  },
  {
   "cell_type": "markdown",
   "id": "515c1277-6c8c-461b-b9f0-c55f5f80a3f1",
   "metadata": {},
   "source": [
    "#### Repeat for the other temperature \n",
    "\n",
    "Now you try it for the other temperature data set."
   ]
  },
  {
   "cell_type": "code",
   "execution_count": 4,
   "id": "2808ccad-09a9-4513-bde9-294721c68789",
   "metadata": {},
   "outputs": [],
   "source": [
    "## Read in the data set and display it\n"
   ]
  },
  {
   "cell_type": "code",
   "execution_count": 5,
   "id": "4155b566-43ab-4768-9012-4c4d7de4f3b0",
   "metadata": {},
   "outputs": [],
   "source": [
    "## Calculate the averages of each column.\n",
    "## extract the values of the resistance.  \n",
    "## Build a (new) dataframe and display it to see if it looks right.\n"
   ]
  },
  {
   "cell_type": "markdown",
   "id": "0f951d7f-3402-44ca-ac1e-e46e3d8982c6",
   "metadata": {},
   "source": [
    "### Plot the reduced data\n",
    "\n",
    "Plot the data set of $V_{rms}$ vs $R$ to see what it looks like.\n",
    "\n",
    "Below, I'll show how. Study the commands, change them, and see what happens.  Hint: study the sections in the [Python Data Science Handbook](https://jakevdp.github.io/PythonDataScienceHandbook/) on Matplotlib. \n",
    "\n",
    "After you make the plot, always look to make sure your data set does not have any weird points. This is a good way to catch bad data and/or mistakes."
   ]
  },
  {
   "cell_type": "code",
   "execution_count": null,
   "id": "1bfa914b-50f3-495b-8c66-74483bfc3a37",
   "metadata": {},
   "outputs": [],
   "source": [
    "# Set up plot defaults  This cell only needs to be executed once.\n",
    "import matplotlib as mpl\n",
    "mpl.rcParams['figure.figsize'] = 10.0,8.0  # Roughly 11 cm wde by 8 cm high\n",
    "mpl.rcParams['font.size'] = 12.0 # Use 12 point font"
   ]
  },
  {
   "cell_type": "code",
   "execution_count": null,
   "id": "84b3b5ba-455b-44f9-ab2e-59e64e55e27b",
   "metadata": {},
   "outputs": [],
   "source": [
    "## Plot the data sets on one graph\n",
    "## Header commands provided\n",
    "\n",
    "plt.grid() # Turn on the grid\n",
    "plt.title('Johnson Noise Data') # make a plot title\n",
    "plt.ylabel(r'$V_J$ (Vrms)') # Make an axis label.  Note the $$ to typeset math\n",
    "plt.xlabel(r'Resistance $R$ ($\\Omega$)') #Another axis label\n",
    "\n",
    "# Below shows how to make a plot with error bars.  The errors are multiplied by \n",
    "# 10 so that the bars are visible. \n",
    "\n",
    "# If you have no error bars, simply omit the item 'yerr=J_294['DV (V)']*10'\n",
    "\n",
    "plt.errorbar(J_294['R (ohms)'],J_294['Vrms (V)'],\n",
    "             yerr=J_294['DV (V)']*10,\n",
    "             fmt='o',label='T = 295K')\n",
    "plt.legend(); # Make a legend"
   ]
  },
  {
   "cell_type": "markdown",
   "id": "16473e62-dddb-4be9-9da0-f4d04df8ccb0",
   "metadata": {},
   "source": [
    "### Include the other data\n",
    "\n",
    "Repeat the lines in the cell above and include another data set so that both the 395K and 77K data are on the same plot."
   ]
  },
  {
   "cell_type": "code",
   "execution_count": 6,
   "id": "42c492ef-28bb-4350-9a12-32165cbf6ec3",
   "metadata": {},
   "outputs": [],
   "source": [
    "## You code this cell."
   ]
  },
  {
   "cell_type": "markdown",
   "id": "f90fd68b-2d98-4520-b779-97b9f9ce6115",
   "metadata": {},
   "source": [
    "rt a.  Modify the data\n",
    "\n",
    "Modify the data arrays to obtain the mean square voltages for each temperature, and also the difference in the (squared) data for the two temperatures, which will help remove the effects of noise in the electronics.  **Remember:** You have NumPy/Pandas arrays, so you can do each task with a single line of code.\n",
    "\n",
    "Then plot the results, all on one plot so you can compare them visually.\n",
    "\n",
    "#### For data sets that have uncertainties associated with them. \n",
    "\n",
    "If you have uncertainties on each data point that you want to carry forward in the analysis, when you square the value, the uncertainty is NOT also squared. Instead it is multiplied by 2 times the |value|.  That is, if $\\sigma_x$ is the uncertainty in $x$, the uncertainty in $x^2$ is $\\sigma_{x^2} = 2|x|\\sigma_x$. \n",
    "\n",
    "Another way to work out the uncertainties is to first build arrays of uncertainty objects from the data and uncertainty arrays. For example, if the data are in an array called `X` and the uncertainty (i.e., error bars) are in an array called `sigma_X`, you can build an uncertainty array as follows:\n",
    "\n",
    "    # Import uNumPy functions.  You could do this in the first cell\n",
    "    import uncertainties.unumpy as unp\n",
    "    \n",
    "    # Build an uncertainty array\n",
    "    uX = unp.uarray(X, sigma_X)\n",
    "    \n",
    "    # Square the array, and also propagate uncertainty\n",
    "    uX_sqrd = uX*uX\n",
    "    \n",
    "    # Access the parts of the uncertainty array.  This is necessary for curve fitting\n",
    "    uX_sqrd_values = unp.nominal_values(uX_sqrd)\n",
    "    uX_sqrd_sigmas = unp.std_devs(uX_sqrd)"
   ]
  },
  {
   "cell_type": "code",
   "execution_count": 7,
   "id": "b04b6100-b6ea-46b8-b478-e6539c34a040",
   "metadata": {},
   "outputs": [],
   "source": [
    "## Modify the arrays as specified above"
   ]
  },
  {
   "cell_type": "code",
   "execution_count": null,
   "id": "28a39394-1b4f-4253-beb0-b626c8d5bcf6",
   "metadata": {},
   "outputs": [],
   "source": [
    "## Plot the results\n",
    "## Header commands provided to format plot\n",
    "\n",
    "plt.grid()\n",
    "plt.title('Johnson Noise Data, in Quadrature')\n",
    "plt.ylabel(r'$V^2_J$ (Vrms$^2$)')\n",
    "plt.xlabel(r'Resistance $R$ ($\\Omega$)')\n",
    "## Add your code here\n",
    "plt.legend();"
   ]
  },
  {
   "cell_type": "markdown",
   "id": "0010e8a0-c450-4345-a5e3-b7eb7b02480b",
   "metadata": {},
   "source": [
    "### Part b. Fit the modified data\n",
    "\n",
    "To fit the data set to a line, make use of the **LMFit** package. It is a useful add-on to the SciPy fitting functions.  This package simplifies fitting data to a variety of standard functions.  See the [Lmfit Documentation](https://lmfit.github.io/lmfit-py/index.html) for a full discussion.  The package is quite powerful, but for basic fitting with common functions, it is very easy to use.  \n",
    "\n",
    "#### Example: Fitting a line\n",
    "\n",
    "The example below shows how to use the package to fit data to a line, obtain the fit parameters along with uncertainties, and then plot the data and fit. Execute the cells and study how it works.\n",
    "(Note: the data come from a calibration problem in physics 331)"
   ]
  },
  {
   "cell_type": "code",
   "execution_count": null,
   "id": "3346e4e0-f362-4a12-8d63-61bfb594b764",
   "metadata": {},
   "outputs": [],
   "source": [
    "# This cell only creates arrays of x and y data to feed to the fit example in the next cell.\n",
    "# Calibration Data from a physics 331 experiment.\n",
    "# First column is wavelength (nm), second is carriage position (cm)\n",
    "#\n",
    "Cal_data = np.array([\n",
    "    [643.85, 41.43],\n",
    "    [579.07, 37.24],\n",
    "    [576.96, 37.11],\n",
    "    [546.08, 35.10],\n",
    "    [508.58, 32.68],\n",
    "    [479.99, 30.83],\n",
    "    [467.81, 30.04],\n",
    "    [435.83, 27.96],\n",
    "    [404.66, 25.98]])\n",
    "\n",
    "# Array slicing separates x (position) and y (wavelength)\n",
    "# Goal of calibration is to be able to feed in a position and obtain a wavelength\n",
    "wavelength = Cal_data[:,0]\n",
    "position = Cal_data[:,1]"
   ]
  },
  {
   "cell_type": "markdown",
   "id": "7e233a6f-5f20-4b4e-9aba-fc0714045e3a",
   "metadata": {},
   "source": [
    "The following cell executes the fitting calculations."
   ]
  },
  {
   "cell_type": "code",
   "execution_count": null,
   "id": "fdc7e68b-85a4-462e-9319-210b9ef341dc",
   "metadata": {},
   "outputs": [],
   "source": [
    "# imports a linear fitting model from lmfit  \n",
    "# ONLY IMPORT ONCE IN A NOTEBOOK\n",
    "from lmfit.models import LinearModel\n",
    "\n",
    "# create an instance of the model\n",
    "# You only need to do this once in a notebook\n",
    "line = LinearModel()\n",
    "\n",
    "# One must have a guess of the parameters. The guess() method works with most of the standard\n",
    "# lmfit models\n",
    "\n",
    "# The return value is a Parameters structure.  See the documentation.\n",
    "param_guess = line.guess(wavelength, x=position)\n",
    "\n",
    "# The line below executes the fitting process.  The results are returned to \"line_fit\"\n",
    "line_fit = line.fit(wavelength, param_guess, x=position)\n",
    "\n",
    "# This prints the results in an easy to read form\n",
    "print(line_fit.fit_report())\n",
    "\n",
    "#Then you can plot the results quickly just to see how it looks using the plot() method\n",
    "line_fit.plot()\n",
    "# Optional: Change axis labels from default 'X' vs. 'Y'.\n",
    "plt.xlabel('Carriage position (cm)')\n",
    "plt.ylabel('Emission wavelength (nm)');"
   ]
  },
  {
   "cell_type": "markdown",
   "id": "7e920287-8886-4c38-abb3-36759fff3b18",
   "metadata": {},
   "source": [
    "Fit each to a line and obtain the slope with uncertainty.  Plot the data with the fit lines.\n",
    "\n",
    "First, I'll make functions to clean up the coding."
   ]
  },
  {
   "cell_type": "code",
   "execution_count": null,
   "id": "39bb9942-f372-49bf-9984-75fc194e6d91",
   "metadata": {},
   "outputs": [],
   "source": [
    "## Defines a function to do the work.  Study it.  If you don't understand how this works,\n",
    "## find out by asking questions and or studying the functions in the code.\n",
    "\n",
    "def line_fit_and_plot(xdata, ydata, yerr=None, model=LinearModel(), xlabel='X', ylabel='Y'):\n",
    "    '''\n",
    "    Fit a line or curve, and plot/show the fit results.\n",
    "    The function returns a parameters object with the fit parameters\n",
    "    '''\n",
    "    param_guess = model.guess(ydata, x=xdata)\n",
    "    if (yerr is None):\n",
    "        model_fit = model.fit(ydata, param_guess, x=xdata)\n",
    "    else:\n",
    "        model_fit = model.fit(ydata, param_guess, x=xdata, weights=1/yerr)\n",
    "    print(model_fit.fit_report(show_correl=False))\n",
    "    model_fit.plot()\n",
    "    plt.xlabel(xlabel)\n",
    "    plt.ylabel(ylabel);\n",
    "    return model_fit.params\n",
    "\n",
    "## This function use the Uncertainties function to make an uncertainty object\n",
    "\n",
    "def get_uslope(params):\n",
    "    return unc.ufloat(params['slope'].value, params['slope'].stderr)"
   ]
  },
  {
   "cell_type": "markdown",
   "id": "fe79cd59-129a-4af7-9dfb-113e3409171d",
   "metadata": {},
   "source": [
    "Then run the functions."
   ]
  },
  {
   "cell_type": "code",
   "execution_count": null,
   "id": "4ecaf206-c6a6-4434-8587-d994dc42c059",
   "metadata": {},
   "outputs": [],
   "source": [
    "## Use the functions above to run the fit for the modified 295K data\n",
    "## and save the fit parameters.  Then pull out the slope\n",
    "## Here is how you would use the above functions with the example data:\n",
    "\n",
    "# Run the fit\n",
    "example_fit_params = line_fit_and_plot(position,wavelength,\n",
    "                                       xlabel='Carriage position (cm)',ylabel='Emission wavelength (nm)')\n",
    "\n",
    "# Obtain the slope and its uncertainty into an uncertainty object\n",
    "slope_with_uncertainty = get_uslope(example_fit_params)\n",
    "print('\\nSlope = {:.2uP}'.format(slope_with_uncertainty))"
   ]
  },
  {
   "cell_type": "markdown",
   "id": "409366b5-2f23-4a5e-ae74-abbbc7451430",
   "metadata": {},
   "source": [
    "### Calculate a Boltzmann constant\n",
    "\n",
    "From the results, calculate the implied Boltzmann constant (with uncertainty).\n",
    "\n",
    "Revised gain of low-noise amplifier $G=10122\\pm35$ (as of July 2021, DBP)"
   ]
  },
  {
   "cell_type": "code",
   "execution_count": null,
   "id": "5dff3b16-4c01-4e62-a310-3b2871b78896",
   "metadata": {},
   "outputs": [],
   "source": [
    "## Create uncertainties objects for the other quantities.  The first two are examples\n",
    "T_295 = unc.ufloat(295.0,1.0) # K\n",
    "G = unc.ufloat(10122,35) # unitless\n",
    "k_B = const.Boltzmann # J/K Accepted value of Boltsmann constant from SciPy constants library.\n",
    "# You do the rest\n",
    "\n",
    "\n",
    "## Calculate and print k_Boltzmann\n",
    "# Use the following print line:\n",
    "# print('Boltzmann constant from T = 295K data = {:.2uP} J/K'.format(k_295))\n",
    "# print('Accepted value = {:.4g} J/K'.format(k_B))"
   ]
  },
  {
   "cell_type": "markdown",
   "id": "4127baff-a652-448d-8e4c-d3a97e39c32c",
   "metadata": {},
   "source": [
    "### 77 K data\n",
    "Repeat the process for the 77K data set."
   ]
  },
  {
   "cell_type": "code",
   "execution_count": null,
   "id": "a082f916-8d37-4fc7-af61-93dea126e0f8",
   "metadata": {},
   "outputs": [],
   "source": [
    "## Repeat for the 77K data"
   ]
  },
  {
   "cell_type": "markdown",
   "id": "b6e115bf-d9da-485b-a582-aa632be86d26",
   "metadata": {},
   "source": [
    "And finally, the difference data"
   ]
  },
  {
   "cell_type": "code",
   "execution_count": 8,
   "id": "d46f2d31-d663-43d7-8208-570675ea99f5",
   "metadata": {},
   "outputs": [],
   "source": [
    "## Repeat for the \"difference\" data (295K-77K) subracted in quadrature"
   ]
  },
  {
   "cell_type": "markdown",
   "id": "45733f4b-01eb-471e-8855-241975f8289c",
   "metadata": {},
   "source": [
    "### Plot everything on one graph\n",
    "\n",
    "Make a single plot that shows all three sets of data (as points) and the three fit lines (as lines).  Include a legend.\n",
    "\n",
    "The cell below shows how to create a fit line using an arbitrary set of x-values based on the range of x data.  It uses the example data sets."
   ]
  },
  {
   "cell_type": "code",
   "execution_count": null,
   "id": "e4514d99-a17d-4973-a219-ecd57fb33981",
   "metadata": {},
   "outputs": [],
   "source": [
    "## Create a \"fit line\" based on the obtained fit parameters\n",
    "\n",
    "xvalues = np.linspace(position.min(),position.max(),100) # create a set of 100 evenly-spaced points\n",
    "yvalues = line.eval(example_fit_params, x=xvalues) # The first argument to eval() needs to be the fit parameters object."
   ]
  },
  {
   "cell_type": "markdown",
   "id": "142fdaf6-f9a2-4465-8961-89e18d5624dc",
   "metadata": {},
   "source": [
    "OK, it is your turn."
   ]
  },
  {
   "cell_type": "code",
   "execution_count": 9,
   "id": "e67bc95b-8bd0-498e-b50e-c9af4c87f7a7",
   "metadata": {},
   "outputs": [],
   "source": [
    "## Make single a plot of all data and fit lines\n"
   ]
  },
  {
   "cell_type": "markdown",
   "id": "41cb86cc-bffc-457f-b081-04761aa65d9d",
   "metadata": {},
   "source": [
    "### Part c.\n",
    "\n",
    "Summary of results for Boltsmann constant:"
   ]
  },
  {
   "cell_type": "code",
   "execution_count": 10,
   "id": "e03b1051-c87d-412b-8ff5-16d8cfc42bf7",
   "metadata": {},
   "outputs": [],
   "source": [
    "## Summarize the results in one table\n",
    "## Like so:\n",
    "## print('  T (K)  |  k_B (J/K)   ')\n",
    "## print('---------|--------------------')\n",
    "## print('   295   | {:.1uP}'.format(k_295))\n",
    "## print('    77   | {:.1uP}'.format(k_77))\n",
    "## print(' 295-77  | {:.1uP}'.format(k_218))\n",
    "## print('Accepted | {:10.4g}'.format(k_B))\n"
   ]
  },
  {
   "cell_type": "markdown",
   "id": "688ed524-6661-49ec-86ed-5ed70241a416",
   "metadata": {},
   "source": [
    "## Exercise 3: Noise Figure\n",
    "\n",
    "Calculate the \"noise figure\" for the low-noise amp, as described in the instructions.\n",
    "\n",
    "The noise figure is defined:\n",
    "\n",
    "$$ NF = 20\\log_{10}\\frac{V_{rms}(R)}{G\\times\\sqrt{4k_BTRB}} \\; \\text{dB}$$\n",
    "\n",
    "Please limit the noise figure to 2 digits beyond the decimal point.  \n",
    "\n",
    "Note: It clearly does not work for $R=0$.  You will need to leave this out of the calculation"
   ]
  },
  {
   "cell_type": "code",
   "execution_count": null,
   "id": "10907c54-a5cb-4d72-95da-528d967c3068",
   "metadata": {},
   "outputs": [],
   "source": [
    "## Calculate the Noise figure for the various values of R at \n",
    "## room temperature and display it as a table or a plot\n",
    "\n",
    "## Make a data frame to display"
   ]
  },
  {
   "cell_type": "markdown",
   "id": "7692f902-21fe-456b-87df-1b08435eeba0",
   "metadata": {},
   "source": [
    "## Shot Noise Analysis\n",
    "\n",
    "This is very similar to the Johnson noise analysis.\n",
    "\n",
    "### Read in the data\n",
    "\n",
    "For data structure type \"1\", column names like \"0.1202mA\" need to split at `m` to convert the current labels into currents."
   ]
  },
  {
   "cell_type": "code",
   "execution_count": 11,
   "id": "287d1f26-7e4c-479c-bf37-923970c1885e",
   "metadata": {},
   "outputs": [],
   "source": [
    "## Read in the shot noise data and display it\n"
   ]
  },
  {
   "cell_type": "markdown",
   "id": "21d2a148-2d59-4c07-81d7-1d866307e7d8",
   "metadata": {},
   "source": [
    "### Obtain averages\n",
    "\n",
    "For Data structure type \"1\" only"
   ]
  },
  {
   "cell_type": "code",
   "execution_count": 12,
   "id": "187a879f-b28a-432d-9508-ab8d4869dcc2",
   "metadata": {},
   "outputs": [],
   "source": [
    "## Calculate the averages and extract the values of the emission current.  \n",
    "## Display the results to check."
   ]
  },
  {
   "cell_type": "markdown",
   "id": "2c77755e-fb6c-4f31-8dca-57410f019be4",
   "metadata": {},
   "source": [
    "### Plot the raw data"
   ]
  },
  {
   "cell_type": "code",
   "execution_count": 13,
   "id": "f6e320e5-1031-4182-ae21-7be9c89b669d",
   "metadata": {},
   "outputs": [],
   "source": [
    "## Plot it"
   ]
  },
  {
   "cell_type": "markdown",
   "id": "5e47edfd-04e4-4e18-ae23-a18cac1a3ad7",
   "metadata": {},
   "source": [
    "### Calculate $V^2_{rms}$"
   ]
  },
  {
   "cell_type": "code",
   "execution_count": 14,
   "id": "74d91baf-9b0b-46ca-8684-72ab2e374162",
   "metadata": {},
   "outputs": [],
   "source": [
    "## transform the data, like you did with Johnson noise"
   ]
  },
  {
   "cell_type": "markdown",
   "id": "cbf0d864-4b28-48bc-9bf3-208ac29b9e39",
   "metadata": {},
   "source": [
    "### Then fit it and plot it\n",
    "\n",
    "**Note:** Shot nose data may not be \"pure\" in that you will see a notable deviation from the expected behavior.  The data may be affected by $1/f$ noise in the vacuum diode that gets worse with higher emission current.   This effect is reduced in the newer shot noise apparatus that uses a different vacuum diode.  If you see a notable curve in your measured voltage, you may try a couple of work-arounds to obtain the linear part of the noise-squared vs emission current:\n",
    "\n",
    "1. Select a portion of the data to fit, where the $1/f$ problem is less, near the low-emission current end of the data set.\n",
    "2. Make a ploynomial fit and look at the linear term.\n",
    "\n",
    "You should try a couple of options and compare your results with your partners.  You only need to do this if you see the $1/f$ effect."
   ]
  },
  {
   "cell_type": "code",
   "execution_count": 15,
   "id": "55faab3a-438b-4ac2-80da-efc3bba7145e",
   "metadata": {},
   "outputs": [],
   "source": [
    "## First the fit. Try the whole data set first."
   ]
  },
  {
   "cell_type": "code",
   "execution_count": 16,
   "id": "1b9303f3-fa41-4b83-ab63-ee1a5cc2de6e",
   "metadata": {},
   "outputs": [],
   "source": [
    "## Then try the lower half of the data, before the 1/f takes over, if necessary"
   ]
  },
  {
   "cell_type": "markdown",
   "id": "45f590cb-e02f-44d8-9d7d-61ed0607be3e",
   "metadata": {},
   "source": [
    "Optional: Another way out of the $1/f$ problem is to fit a quadratic, and use the linear-term coefficient as the initial slope."
   ]
  },
  {
   "cell_type": "code",
   "execution_count": null,
   "id": "2891d87f-3dc6-4b77-8ae4-040f656666a6",
   "metadata": {},
   "outputs": [],
   "source": [
    "## To do this, you need a different fitting model\n",
    "#  Below will get you started, but you need to study the docs to understand the parameters.\n",
    "\n",
    "from lmfit.models import QuadraticModel\n",
    "quadratic = QuadraticModel()\n",
    "\n",
    "## You do the rest"
   ]
  },
  {
   "cell_type": "code",
   "execution_count": 17,
   "id": "3ae59164-3bd4-4f9c-b417-4afbe02eb7b6",
   "metadata": {},
   "outputs": [],
   "source": [
    "## Now make a nice plot of all fits over the data points\n"
   ]
  },
  {
   "cell_type": "markdown",
   "id": "3f4fb53f-8dba-4dd1-8ad2-10c56923bd40",
   "metadata": {},
   "source": [
    "### Calculate Electron Charge\n",
    "\n",
    "Use the fit results, propagate the uncertainty, and find a value for $e$."
   ]
  },
  {
   "cell_type": "code",
   "execution_count": null,
   "id": "9e8ea727-69ca-464f-a529-77e3c6fc2dc2",
   "metadata": {},
   "outputs": [],
   "source": [
    "## Calculate e with uncertainty and print it (with units) \n",
    "## Compare with the accepted value\n",
    "\n",
    "# You will need the correct sensing resistance in the shot noise box:\n",
    "# Older box:\n",
    "# R_load = unc.ufloat(4976,1) # Load resistance of shot noise box in ohms \n",
    "# Newer box:\n",
    "# R_load = unc.ufloat(10000.0,10)\n",
    "\n",
    "# Calculate the result, and propagate the uncertainty.\n",
    "\n",
    "# Use whatever you need below\n",
    "# print('\\nElectron charge from whole data set = {:.2uP} C'.format(e_1))\n",
    "# print('Electron charge from partial data set = {:.2uP} C'.format(e_2))\n",
    "# print('Electron charge from quadratic fit = {:.2uP} C'.format(e_3))\n",
    "# print('\\nAccepted value = {:.4g} C'.format(const.e))"
   ]
  }
 ],
 "metadata": {
  "kernelspec": {
   "display_name": "Python 3 (ipykernel)",
   "language": "python",
   "name": "python3"
  },
  "language_info": {
   "codemirror_mode": {
    "name": "ipython",
    "version": 3
   },
   "file_extension": ".py",
   "mimetype": "text/x-python",
   "name": "python",
   "nbconvert_exporter": "python",
   "pygments_lexer": "ipython3",
   "version": "3.9.12"
  }
 },
 "nbformat": 4,
 "nbformat_minor": 5
}
